{
 "cells": [
  {
   "cell_type": "markdown",
   "metadata": {},
   "source": [
    "# TSP"
   ]
  },
  {
   "cell_type": "markdown",
   "metadata": {},
   "source": [
    "Given a set of cities and distance between every pair of cities, the problem is to find the shortest possible route that visits every city exactly once and returns back to the starting point."
   ]
  },
  {
   "cell_type": "markdown",
   "metadata": {},
   "source": [
    "### Cities and distances"
   ]
  },
  {
   "cell_type": "markdown",
   "metadata": {},
   "source": [
    "This problem is from Chapter 3, Section 1 (3.1 Prototype Example) of the Introduction to Operations Research,\n",
    "7th edition by Hillier and Lieberman."
   ]
  },
  {
   "cell_type": "markdown",
   "metadata": {},
   "source": [
    "<div>\n",
    "<img src=\"img_9.3-1_table.png\" width=\"400\"/>\n",
    "</div>"
   ]
  },
  {
   "cell_type": "markdown",
   "metadata": {},
   "source": [
    "<!-- ![title](img_9.3-1_network.png) -->\n",
    "<div>\n",
    "<img src=\"img_9.3-1_network.png\" width=\"700\"/>\n",
    "</div>"
   ]
  },
  {
   "cell_type": "markdown",
   "metadata": {},
   "source": [
    "reference:\n",
    "https://ozgurakgun.github.io/ModRef2017/files/ModRef2017_MTSP.pdf"
   ]
  },
  {
   "cell_type": "markdown",
   "metadata": {},
   "source": [
    "### Import packages"
   ]
  },
  {
   "cell_type": "code",
   "execution_count": 1,
   "metadata": {},
   "outputs": [],
   "source": [
    "import pandas as pd\n",
    "from docplex.mp.model import Model"
   ]
  },
  {
   "cell_type": "markdown",
   "metadata": {},
   "source": [
    "### Intializing the data"
   ]
  },
  {
   "cell_type": "code",
   "execution_count": 2,
   "metadata": {},
   "outputs": [
    {
     "data": {
      "text/html": [
       "<div>\n",
       "<style scoped>\n",
       "    .dataframe tbody tr th:only-of-type {\n",
       "        vertical-align: middle;\n",
       "    }\n",
       "\n",
       "    .dataframe tbody tr th {\n",
       "        vertical-align: top;\n",
       "    }\n",
       "\n",
       "    .dataframe thead th {\n",
       "        text-align: right;\n",
       "    }\n",
       "</style>\n",
       "<table border=\"1\" class=\"dataframe\">\n",
       "  <thead>\n",
       "    <tr style=\"text-align: right;\">\n",
       "      <th></th>\n",
       "      <th>origin</th>\n",
       "      <th>destination</th>\n",
       "      <th>OD_pair</th>\n",
       "      <th>distance</th>\n",
       "    </tr>\n",
       "  </thead>\n",
       "  <tbody>\n",
       "    <tr>\n",
       "      <th>0</th>\n",
       "      <td>O</td>\n",
       "      <td>A</td>\n",
       "      <td>OA</td>\n",
       "      <td>40</td>\n",
       "    </tr>\n",
       "    <tr>\n",
       "      <th>1</th>\n",
       "      <td>O</td>\n",
       "      <td>C</td>\n",
       "      <td>OC</td>\n",
       "      <td>60</td>\n",
       "    </tr>\n",
       "    <tr>\n",
       "      <th>2</th>\n",
       "      <td>O</td>\n",
       "      <td>B</td>\n",
       "      <td>OB</td>\n",
       "      <td>50</td>\n",
       "    </tr>\n",
       "    <tr>\n",
       "      <th>3</th>\n",
       "      <td>A</td>\n",
       "      <td>B</td>\n",
       "      <td>AB</td>\n",
       "      <td>10</td>\n",
       "    </tr>\n",
       "    <tr>\n",
       "      <th>4</th>\n",
       "      <td>A</td>\n",
       "      <td>D</td>\n",
       "      <td>AD</td>\n",
       "      <td>70</td>\n",
       "    </tr>\n",
       "    <tr>\n",
       "      <th>5</th>\n",
       "      <td>B</td>\n",
       "      <td>C</td>\n",
       "      <td>BC</td>\n",
       "      <td>20</td>\n",
       "    </tr>\n",
       "    <tr>\n",
       "      <th>6</th>\n",
       "      <td>B</td>\n",
       "      <td>D</td>\n",
       "      <td>BD</td>\n",
       "      <td>55</td>\n",
       "    </tr>\n",
       "    <tr>\n",
       "      <th>7</th>\n",
       "      <td>B</td>\n",
       "      <td>E</td>\n",
       "      <td>BE</td>\n",
       "      <td>40</td>\n",
       "    </tr>\n",
       "    <tr>\n",
       "      <th>8</th>\n",
       "      <td>C</td>\n",
       "      <td>E</td>\n",
       "      <td>CE</td>\n",
       "      <td>50</td>\n",
       "    </tr>\n",
       "    <tr>\n",
       "      <th>9</th>\n",
       "      <td>D</td>\n",
       "      <td>E</td>\n",
       "      <td>DE</td>\n",
       "      <td>10</td>\n",
       "    </tr>\n",
       "    <tr>\n",
       "      <th>10</th>\n",
       "      <td>D</td>\n",
       "      <td>T</td>\n",
       "      <td>DT</td>\n",
       "      <td>60</td>\n",
       "    </tr>\n",
       "    <tr>\n",
       "      <th>11</th>\n",
       "      <td>E</td>\n",
       "      <td>T</td>\n",
       "      <td>ET</td>\n",
       "      <td>80</td>\n",
       "    </tr>\n",
       "    <tr>\n",
       "      <th>12</th>\n",
       "      <td>A</td>\n",
       "      <td>O</td>\n",
       "      <td>AO</td>\n",
       "      <td>40</td>\n",
       "    </tr>\n",
       "    <tr>\n",
       "      <th>13</th>\n",
       "      <td>C</td>\n",
       "      <td>O</td>\n",
       "      <td>CO</td>\n",
       "      <td>60</td>\n",
       "    </tr>\n",
       "    <tr>\n",
       "      <th>14</th>\n",
       "      <td>B</td>\n",
       "      <td>O</td>\n",
       "      <td>BO</td>\n",
       "      <td>50</td>\n",
       "    </tr>\n",
       "    <tr>\n",
       "      <th>15</th>\n",
       "      <td>B</td>\n",
       "      <td>A</td>\n",
       "      <td>BA</td>\n",
       "      <td>10</td>\n",
       "    </tr>\n",
       "    <tr>\n",
       "      <th>16</th>\n",
       "      <td>D</td>\n",
       "      <td>A</td>\n",
       "      <td>DA</td>\n",
       "      <td>70</td>\n",
       "    </tr>\n",
       "    <tr>\n",
       "      <th>17</th>\n",
       "      <td>C</td>\n",
       "      <td>B</td>\n",
       "      <td>CB</td>\n",
       "      <td>20</td>\n",
       "    </tr>\n",
       "    <tr>\n",
       "      <th>18</th>\n",
       "      <td>D</td>\n",
       "      <td>B</td>\n",
       "      <td>DB</td>\n",
       "      <td>55</td>\n",
       "    </tr>\n",
       "    <tr>\n",
       "      <th>19</th>\n",
       "      <td>E</td>\n",
       "      <td>B</td>\n",
       "      <td>EB</td>\n",
       "      <td>40</td>\n",
       "    </tr>\n",
       "    <tr>\n",
       "      <th>20</th>\n",
       "      <td>E</td>\n",
       "      <td>C</td>\n",
       "      <td>EC</td>\n",
       "      <td>50</td>\n",
       "    </tr>\n",
       "    <tr>\n",
       "      <th>21</th>\n",
       "      <td>E</td>\n",
       "      <td>D</td>\n",
       "      <td>ED</td>\n",
       "      <td>10</td>\n",
       "    </tr>\n",
       "    <tr>\n",
       "      <th>22</th>\n",
       "      <td>T</td>\n",
       "      <td>D</td>\n",
       "      <td>TD</td>\n",
       "      <td>60</td>\n",
       "    </tr>\n",
       "    <tr>\n",
       "      <th>23</th>\n",
       "      <td>T</td>\n",
       "      <td>E</td>\n",
       "      <td>TE</td>\n",
       "      <td>80</td>\n",
       "    </tr>\n",
       "  </tbody>\n",
       "</table>\n",
       "</div>"
      ],
      "text/plain": [
       "   origin destination OD_pair  distance\n",
       "0       O           A      OA        40\n",
       "1       O           C      OC        60\n",
       "2       O           B      OB        50\n",
       "3       A           B      AB        10\n",
       "4       A           D      AD        70\n",
       "5       B           C      BC        20\n",
       "6       B           D      BD        55\n",
       "7       B           E      BE        40\n",
       "8       C           E      CE        50\n",
       "9       D           E      DE        10\n",
       "10      D           T      DT        60\n",
       "11      E           T      ET        80\n",
       "12      A           O      AO        40\n",
       "13      C           O      CO        60\n",
       "14      B           O      BO        50\n",
       "15      B           A      BA        10\n",
       "16      D           A      DA        70\n",
       "17      C           B      CB        20\n",
       "18      D           B      DB        55\n",
       "19      E           B      EB        40\n",
       "20      E           C      EC        50\n",
       "21      E           D      ED        10\n",
       "22      T           D      TD        60\n",
       "23      T           E      TE        80"
      ]
     },
     "execution_count": 2,
     "metadata": {},
     "output_type": "execute_result"
    }
   ],
   "source": [
    "# Initialize the problem data\n",
    "df = pd.read_csv('data_arc.csv')\n",
    "df"
   ]
  },
  {
   "cell_type": "code",
   "execution_count": 3,
   "metadata": {},
   "outputs": [
    {
     "data": {
      "text/plain": [
       "[('O', 'A'),\n",
       " ('O', 'C'),\n",
       " ('O', 'B'),\n",
       " ('A', 'B'),\n",
       " ('A', 'D'),\n",
       " ('B', 'C'),\n",
       " ('B', 'D'),\n",
       " ('B', 'E'),\n",
       " ('C', 'E'),\n",
       " ('D', 'E'),\n",
       " ('D', 'T'),\n",
       " ('E', 'T'),\n",
       " ('A', 'O'),\n",
       " ('C', 'O'),\n",
       " ('B', 'O'),\n",
       " ('B', 'A'),\n",
       " ('D', 'A'),\n",
       " ('C', 'B'),\n",
       " ('D', 'B'),\n",
       " ('E', 'B'),\n",
       " ('E', 'C'),\n",
       " ('E', 'D'),\n",
       " ('T', 'D'),\n",
       " ('T', 'E')]"
      ]
     },
     "execution_count": 3,
     "metadata": {},
     "output_type": "execute_result"
    }
   ],
   "source": [
    "edges = list((t.origin, t.destination) for t in df.itertuples())\n",
    "edges"
   ]
  },
  {
   "cell_type": "code",
   "execution_count": 4,
   "metadata": {},
   "outputs": [
    {
     "data": {
      "text/plain": [
       "{'A', 'B', 'C', 'D', 'E', 'O', 'T'}"
      ]
     },
     "execution_count": 4,
     "metadata": {},
     "output_type": "execute_result"
    }
   ],
   "source": [
    "cities = set(df['destination'])\n",
    "cities"
   ]
  },
  {
   "cell_type": "code",
   "execution_count": 5,
   "metadata": {},
   "outputs": [
    {
     "data": {
      "text/plain": [
       "{('O', 'A'): 40,\n",
       " ('O', 'C'): 60,\n",
       " ('O', 'B'): 50,\n",
       " ('A', 'B'): 10,\n",
       " ('A', 'D'): 70,\n",
       " ('B', 'C'): 20,\n",
       " ('B', 'D'): 55,\n",
       " ('B', 'E'): 40,\n",
       " ('C', 'E'): 50,\n",
       " ('D', 'E'): 10,\n",
       " ('D', 'T'): 60,\n",
       " ('E', 'T'): 80,\n",
       " ('A', 'O'): 40,\n",
       " ('C', 'O'): 60,\n",
       " ('B', 'O'): 50,\n",
       " ('B', 'A'): 10,\n",
       " ('D', 'A'): 70,\n",
       " ('C', 'B'): 20,\n",
       " ('D', 'B'): 55,\n",
       " ('E', 'B'): 40,\n",
       " ('E', 'C'): 50,\n",
       " ('E', 'D'): 10,\n",
       " ('T', 'D'): 60,\n",
       " ('T', 'E'): 80}"
      ]
     },
     "execution_count": 5,
     "metadata": {},
     "output_type": "execute_result"
    }
   ],
   "source": [
    "distance = dict([((t.origin, t.destination),t.distance ) for t in df.itertuples()])\n",
    "distance"
   ]
  },
  {
   "cell_type": "markdown",
   "metadata": {},
   "source": [
    "### Create the model"
   ]
  },
  {
   "cell_type": "code",
   "execution_count": 6,
   "metadata": {},
   "outputs": [],
   "source": [
    "m=Model('TSP')"
   ]
  },
  {
   "cell_type": "markdown",
   "metadata": {},
   "source": [
    "#### <font color=green>  Decision Variables"
   ]
  },
  {
   "cell_type": "markdown",
   "metadata": {},
   "source": [
    "Let $x_{ij}$ = 1 if edge ${ij}$ is used, 0 otherwise.\n",
    "<br>\n",
    "Let $x_{ij}$ $\\epsilon$ $(0,1)$\n",
    "<br> <br>\n",
    "\n",
    "<br>\n",
    "Let $u_{c}$ = the number of cities visited from the origin up to city $c$\n",
    "<br>\n",
    "$u_{c}$ $\\epsilon$ ${\\rm I\\!R}$"
   ]
  },
  {
   "cell_type": "code",
   "execution_count": 7,
   "metadata": {},
   "outputs": [],
   "source": [
    "x = m.binary_var_dict(edges, name = 'x')\n",
    "u = m.continuous_var_dict(cities, name ='u')"
   ]
  },
  {
   "cell_type": "markdown",
   "metadata": {},
   "source": [
    "#### <font color=green>  Objective Function"
   ]
  },
  {
   "cell_type": "markdown",
   "metadata": {},
   "source": [
    "Minimize Z $$Z = \\sum_{ij } x_{ij}d_{ij}$$"
   ]
  },
  {
   "cell_type": "code",
   "execution_count": 8,
   "metadata": {},
   "outputs": [],
   "source": [
    "m.minimize(m.sum(distance[e]*x[e] for e in edges))"
   ]
  },
  {
   "cell_type": "markdown",
   "metadata": {},
   "source": [
    "#### <font color=green>  Constraints"
   ]
  },
  {
   "cell_type": "markdown",
   "metadata": {},
   "source": [
    "$$\n",
    "\\sum_{i,j \\: \\epsilon \\:E} x_{i} = 1 \n",
    "\\qquad \\forall  \\enspace i \\: \\epsilon \\: Cities\n",
    "$$ "
   ]
  },
  {
   "cell_type": "markdown",
   "metadata": {},
   "source": [
    "$$\n",
    "\\sum_{j \\: \\epsilon \\:E} x_{j} = 1 \n",
    "\\qquad \\forall  \\enspace j \\: \\epsilon \\: Cities\n",
    "$$ "
   ]
  },
  {
   "cell_type": "code",
   "execution_count": 9,
   "metadata": {},
   "outputs": [],
   "source": [
    "# Constraint 1: each city must be entered once\n",
    "for c in cities:\n",
    "    if c != 'T':\n",
    "        m.add_constraint(m.sum(x[(i,j)] for i,j in edges if i==c)==1, ctname='city_out_'+ c)\n",
    "\n",
    "# Constraint 2: each city must be exited once\n",
    "for c in cities:\n",
    "    if c != 'O':\n",
    "        m.add_constraint(m.sum(x[(i,j)] for i,j in edges if j==c)==1, ctname='city_in_'+ c)"
   ]
  },
  {
   "cell_type": "markdown",
   "metadata": {},
   "source": [
    "#### <font color=green>  Constraints cont."
   ]
  },
  {
   "cell_type": "markdown",
   "metadata": {},
   "source": [
    "$$\n",
    "edges_i + 1 \\geq edges_j + M(1-x_{ij})\n",
    "$$ "
   ]
  },
  {
   "cell_type": "code",
   "execution_count": 10,
   "metadata": {},
   "outputs": [],
   "source": [
    "# Constraint 3: ensures that u_j = u_i + 1 if and only if x_ij = 1\n",
    "for i,j in edges:\n",
    "    if j!='O':\n",
    "        m.add_indicator(x[(i,j)],u[(i)]+1==u[(j)], name='order_'+i+'_'+ j)"
   ]
  },
  {
   "cell_type": "code",
   "execution_count": 11,
   "metadata": {},
   "outputs": [
    {
     "name": "stdout",
     "output_type": "stream",
     "text": [
      "\\ This file has been generated by DOcplex\n",
      "\\ ENCODING=ISO-8859-1\n",
      "\\Problem name: TSP\n",
      "\n",
      "Minimize\n",
      " obj: 40 x_O_A + 60 x_O_C + 50 x_O_B + 10 x_A_B + 70 x_A_D + 20 x_B_C + 55 x_B_D\n",
      "      + 40 x_B_E + 50 x_C_E + 10 x_D_E + 60 x_D_T + 80 x_E_T + 40 x_A_O\n",
      "      + 60 x_C_O + 50 x_B_O + 10 x_B_A + 70 x_D_A + 20 x_C_B + 55 x_D_B\n",
      "      + 40 x_E_B + 50 x_E_C + 10 x_E_D + 60 x_T_D + 80 x_T_E\n",
      "Subject To\n",
      " city_out_O: x_O_A + x_O_C + x_O_B = 1\n",
      " city_out_B: x_B_C + x_B_D + x_B_E + x_B_O + x_B_A = 1\n",
      " city_out_A: x_A_B + x_A_D + x_A_O = 1\n",
      " city_out_C: x_C_E + x_C_O + x_C_B = 1\n",
      " city_out_D: x_D_E + x_D_T + x_D_A + x_D_B = 1\n",
      " city_out_E: x_E_T + x_E_B + x_E_C + x_E_D = 1\n",
      " city_in_T: x_D_T + x_E_T = 1\n",
      " city_in_B: x_O_B + x_A_B + x_C_B + x_D_B + x_E_B = 1\n",
      " city_in_A: x_O_A + x_B_A + x_D_A = 1\n",
      " city_in_C: x_O_C + x_B_C + x_E_C = 1\n",
      " city_in_D: x_A_D + x_B_D + x_E_D + x_T_D = 1\n",
      " city_in_E: x_B_E + x_C_E + x_D_E + x_T_E = 1\n",
      " order_O_A: x_O_A = 1 -> u_O - u_A = -1\n",
      " order_O_C: x_O_C = 1 -> u_O - u_C = -1\n",
      " order_O_B: x_O_B = 1 -> u_O - u_B = -1\n",
      " order_A_B: x_A_B = 1 -> u_A - u_B = -1\n",
      " order_A_D: x_A_D = 1 -> u_A - u_D = -1\n",
      " order_B_C: x_B_C = 1 -> u_B - u_C = -1\n",
      " order_B_D: x_B_D = 1 -> u_B - u_D = -1\n",
      " order_B_E: x_B_E = 1 -> u_B - u_E = -1\n",
      " order_C_E: x_C_E = 1 -> u_C - u_E = -1\n",
      " order_D_E: x_D_E = 1 -> u_D - u_E = -1\n",
      " order_D_T: x_D_T = 1 -> u_D - u_T = -1\n",
      " order_E_T: x_E_T = 1 -> u_E - u_T = -1\n",
      " order_B_A: x_B_A = 1 -> u_B - u_A = -1\n",
      " order_D_A: x_D_A = 1 -> u_D - u_A = -1\n",
      " order_C_B: x_C_B = 1 -> u_C - u_B = -1\n",
      " order_D_B: x_D_B = 1 -> u_D - u_B = -1\n",
      " order_E_B: x_E_B = 1 -> u_E - u_B = -1\n",
      " order_E_C: x_E_C = 1 -> u_E - u_C = -1\n",
      " order_E_D: x_E_D = 1 -> u_E - u_D = -1\n",
      " order_T_D: x_T_D = 1 -> u_T - u_D = -1\n",
      " order_T_E: x_T_E = 1 -> u_T - u_E = -1\n",
      "\n",
      "Bounds\n",
      " 0 <= x_O_A <= 1\n",
      " 0 <= x_O_C <= 1\n",
      " 0 <= x_O_B <= 1\n",
      " 0 <= x_A_B <= 1\n",
      " 0 <= x_A_D <= 1\n",
      " 0 <= x_B_C <= 1\n",
      " 0 <= x_B_D <= 1\n",
      " 0 <= x_B_E <= 1\n",
      " 0 <= x_C_E <= 1\n",
      " 0 <= x_D_E <= 1\n",
      " 0 <= x_D_T <= 1\n",
      " 0 <= x_E_T <= 1\n",
      " 0 <= x_A_O <= 1\n",
      " 0 <= x_C_O <= 1\n",
      " 0 <= x_B_O <= 1\n",
      " 0 <= x_B_A <= 1\n",
      " 0 <= x_D_A <= 1\n",
      " 0 <= x_C_B <= 1\n",
      " 0 <= x_D_B <= 1\n",
      " 0 <= x_E_B <= 1\n",
      " 0 <= x_E_C <= 1\n",
      " 0 <= x_E_D <= 1\n",
      " 0 <= x_T_D <= 1\n",
      " 0 <= x_T_E <= 1\n",
      "\n",
      "Binaries\n",
      " x_O_A x_O_C x_O_B x_A_B x_A_D x_B_C x_B_D x_B_E x_C_E x_D_E x_D_T x_E_T x_A_O\n",
      " x_C_O x_B_O x_B_A x_D_A x_C_B x_D_B x_E_B x_E_C x_E_D x_T_D x_T_E\n",
      "End\n",
      "\n"
     ]
    }
   ],
   "source": [
    "print(m.export_to_string())"
   ]
  },
  {
   "cell_type": "code",
   "execution_count": 12,
   "metadata": {},
   "outputs": [
    {
     "name": "stdout",
     "output_type": "stream",
     "text": [
      "Version identifier: 12.10.0.0 | 2019-11-27 | 843d4de\n",
      "CPXPARAM_Read_DataCheck                          1\n",
      "CPXPARAM_RandomSeed                              201903125\n",
      "CPXPARAM_MIP_Strategy_Branch                     1\n",
      "CPXPARAM_TimeLimit                               120\n",
      "CPXPARAM_MIP_Tolerances_MIPGap                   0.14999999999999999\n",
      "Tried aggregator 2 times.\n",
      "MIP Presolve modified 9 coefficients.\n",
      "Aggregator did 10 substitutions.\n",
      "Reduced MIP has 23 rows, 42 columns, and 77 nonzeros.\n",
      "Reduced MIP has 23 binaries, 0 generals, 0 SOSs, and 21 indicators.\n",
      "Presolve time = 0.01 sec. (0.07 ticks)\n",
      "Probing time = 0.00 sec. (0.02 ticks)\n",
      "Tried aggregator 1 time.\n",
      "Detecting symmetries...\n",
      "Reduced MIP has 23 rows, 42 columns, and 77 nonzeros.\n",
      "Reduced MIP has 23 binaries, 0 generals, 0 SOSs, and 21 indicators.\n",
      "Presolve time = 0.01 sec. (0.05 ticks)\n",
      "Probing time = 0.00 sec. (0.02 ticks)\n",
      "Clique table members: 23.\n",
      "MIP emphasis: balance optimality and feasibility.\n",
      "MIP search method: dynamic search.\n",
      "Parallel mode: deterministic, using up to 12 threads.\n",
      "Root relaxation solution time = 0.00 sec. (0.04 ticks)\n",
      "\n",
      "        Nodes                                         Cuts/\n",
      "   Node  Left     Objective  IInf  Best Integer    Best Bound    ItCnt     Gap\n",
      "\n",
      "*     0+    0                          190.0000       60.0000            68.42%\n",
      "      0     0        cutoff            190.0000      190.0000        3    0.00%\n",
      "      0     0        cutoff            190.0000      190.0000        3    0.00%\n",
      "Elapsed time = 0.05 sec. (0.40 ticks, tree = 0.01 MB, solutions = 1)\n",
      "\n",
      "Root node processing (before b&c):\n",
      "  Real time             =    0.05 sec. (0.40 ticks)\n",
      "Parallel b&c, 12 threads:\n",
      "  Real time             =    0.00 sec. (0.00 ticks)\n",
      "  Sync time (average)   =    0.00 sec.\n",
      "  Wait time (average)   =    0.00 sec.\n",
      "                          ------------\n",
      "Total (root+branch&cut) =    0.05 sec. (0.40 ticks)\n"
     ]
    }
   ],
   "source": [
    "m.parameters.timelimit=120\n",
    "m.parameters.mip.strategy.branch=1\n",
    "m.parameters.mip.tolerances.mipgap=0.15\n",
    "\n",
    "solution = m.solve(log_output=True)"
   ]
  },
  {
   "cell_type": "code",
   "execution_count": 13,
   "metadata": {},
   "outputs": [
    {
     "data": {
      "text/plain": [
       "<JobSolveStatus.OPTIMAL_SOLUTION: 2>"
      ]
     },
     "execution_count": 13,
     "metadata": {},
     "output_type": "execute_result"
    }
   ],
   "source": [
    "m.get_solve_status()"
   ]
  },
  {
   "cell_type": "code",
   "execution_count": 14,
   "metadata": {},
   "outputs": [
    {
     "name": "stdout",
     "output_type": "stream",
     "text": [
      "solution for: TSP\n",
      "objective: 190\n",
      "x_O_A = 1\n",
      "x_A_B = 1\n",
      "x_B_C = 1\n",
      "x_C_E = 1\n",
      "x_D_T = 1\n",
      "x_E_D = 1\n",
      "u_T = 6.000\n",
      "u_B = 2.000\n",
      "u_A = 1.000\n",
      "u_C = 3.000\n",
      "u_D = 5.000\n",
      "u_E = 4.000\n"
     ]
    }
   ],
   "source": [
    "solution.display()"
   ]
  },
  {
   "cell_type": "code",
   "execution_count": 15,
   "metadata": {},
   "outputs": [
    {
     "data": {
      "text/html": [
       "<div>\n",
       "<style scoped>\n",
       "    .dataframe tbody tr th:only-of-type {\n",
       "        vertical-align: middle;\n",
       "    }\n",
       "\n",
       "    .dataframe tbody tr th {\n",
       "        vertical-align: top;\n",
       "    }\n",
       "\n",
       "    .dataframe thead th {\n",
       "        text-align: right;\n",
       "    }\n",
       "</style>\n",
       "<table border=\"1\" class=\"dataframe\">\n",
       "  <thead>\n",
       "    <tr style=\"text-align: right;\">\n",
       "      <th></th>\n",
       "      <th>starting city</th>\n",
       "      <th>destination city</th>\n",
       "      <th>solution</th>\n",
       "    </tr>\n",
       "  </thead>\n",
       "  <tbody>\n",
       "    <tr>\n",
       "      <th>0</th>\n",
       "      <td>O</td>\n",
       "      <td>A</td>\n",
       "      <td>1.0</td>\n",
       "    </tr>\n",
       "    <tr>\n",
       "      <th>1</th>\n",
       "      <td>A</td>\n",
       "      <td>B</td>\n",
       "      <td>1.0</td>\n",
       "    </tr>\n",
       "    <tr>\n",
       "      <th>2</th>\n",
       "      <td>B</td>\n",
       "      <td>C</td>\n",
       "      <td>1.0</td>\n",
       "    </tr>\n",
       "    <tr>\n",
       "      <th>3</th>\n",
       "      <td>C</td>\n",
       "      <td>E</td>\n",
       "      <td>1.0</td>\n",
       "    </tr>\n",
       "    <tr>\n",
       "      <th>4</th>\n",
       "      <td>D</td>\n",
       "      <td>T</td>\n",
       "      <td>1.0</td>\n",
       "    </tr>\n",
       "    <tr>\n",
       "      <th>5</th>\n",
       "      <td>E</td>\n",
       "      <td>D</td>\n",
       "      <td>1.0</td>\n",
       "    </tr>\n",
       "  </tbody>\n",
       "</table>\n",
       "</div>"
      ],
      "text/plain": [
       "  starting city destination city  solution\n",
       "0             O                A       1.0\n",
       "1             A                B       1.0\n",
       "2             B                C       1.0\n",
       "3             C                E       1.0\n",
       "4             D                T       1.0\n",
       "5             E                D       1.0"
      ]
     },
     "execution_count": 15,
     "metadata": {},
     "output_type": "execute_result"
    }
   ],
   "source": [
    "lst = []\n",
    "for i in x:\n",
    "    if solution.get_var_value(x[i]) > 0:\n",
    "        soln = (i[0], i[1], solution.get_var_value(x[i]))\n",
    "        lst.append(soln)\n",
    "df = pd.DataFrame.from_records(lst, columns=['starting city', 'destination city', 'solution'])\n",
    "df"
   ]
  },
  {
   "cell_type": "code",
   "execution_count": 16,
   "metadata": {},
   "outputs": [
    {
     "data": {
      "text/html": [
       "<div>\n",
       "<style scoped>\n",
       "    .dataframe tbody tr th:only-of-type {\n",
       "        vertical-align: middle;\n",
       "    }\n",
       "\n",
       "    .dataframe tbody tr th {\n",
       "        vertical-align: top;\n",
       "    }\n",
       "\n",
       "    .dataframe thead th {\n",
       "        text-align: right;\n",
       "    }\n",
       "</style>\n",
       "<table border=\"1\" class=\"dataframe\">\n",
       "  <thead>\n",
       "    <tr style=\"text-align: right;\">\n",
       "      <th></th>\n",
       "      <th>starting city</th>\n",
       "      <th>destination city</th>\n",
       "      <th>solution</th>\n",
       "    </tr>\n",
       "  </thead>\n",
       "  <tbody>\n",
       "    <tr>\n",
       "      <th>0</th>\n",
       "      <td>O</td>\n",
       "      <td>A</td>\n",
       "      <td>1.0</td>\n",
       "    </tr>\n",
       "    <tr>\n",
       "      <th>1</th>\n",
       "      <td>A</td>\n",
       "      <td>B</td>\n",
       "      <td>1.0</td>\n",
       "    </tr>\n",
       "    <tr>\n",
       "      <th>2</th>\n",
       "      <td>B</td>\n",
       "      <td>C</td>\n",
       "      <td>1.0</td>\n",
       "    </tr>\n",
       "    <tr>\n",
       "      <th>3</th>\n",
       "      <td>C</td>\n",
       "      <td>E</td>\n",
       "      <td>1.0</td>\n",
       "    </tr>\n",
       "    <tr>\n",
       "      <th>4</th>\n",
       "      <td>D</td>\n",
       "      <td>T</td>\n",
       "      <td>1.0</td>\n",
       "    </tr>\n",
       "    <tr>\n",
       "      <th>5</th>\n",
       "      <td>E</td>\n",
       "      <td>D</td>\n",
       "      <td>1.0</td>\n",
       "    </tr>\n",
       "  </tbody>\n",
       "</table>\n",
       "</div>"
      ],
      "text/plain": [
       "  starting city destination city  solution\n",
       "0             O                A       1.0\n",
       "1             A                B       1.0\n",
       "2             B                C       1.0\n",
       "3             C                E       1.0\n",
       "4             D                T       1.0\n",
       "5             E                D       1.0"
      ]
     },
     "execution_count": 16,
     "metadata": {},
     "output_type": "execute_result"
    }
   ],
   "source": [
    "lst_x = []\n",
    "for i in x:\n",
    "    if solution.get_var_value(x[i]) > 0:\n",
    "        soln_x = (i[0], i[1], solution.get_var_value(x[i]))\n",
    "        lst_x.append(soln_x)\n",
    "df_x = pd.DataFrame.from_records(lst_x, columns=['starting city', 'destination city', 'solution'])\n",
    "df_x"
   ]
  },
  {
   "cell_type": "code",
   "execution_count": 17,
   "metadata": {},
   "outputs": [
    {
     "data": {
      "text/html": [
       "<div>\n",
       "<style scoped>\n",
       "    .dataframe tbody tr th:only-of-type {\n",
       "        vertical-align: middle;\n",
       "    }\n",
       "\n",
       "    .dataframe tbody tr th {\n",
       "        vertical-align: top;\n",
       "    }\n",
       "\n",
       "    .dataframe thead th {\n",
       "        text-align: right;\n",
       "    }\n",
       "</style>\n",
       "<table border=\"1\" class=\"dataframe\">\n",
       "  <thead>\n",
       "    <tr style=\"text-align: right;\">\n",
       "      <th></th>\n",
       "      <th>city</th>\n",
       "      <th>visit order</th>\n",
       "    </tr>\n",
       "  </thead>\n",
       "  <tbody>\n",
       "    <tr>\n",
       "      <th>0</th>\n",
       "      <td>O</td>\n",
       "      <td>0.0</td>\n",
       "    </tr>\n",
       "    <tr>\n",
       "      <th>3</th>\n",
       "      <td>A</td>\n",
       "      <td>1.0</td>\n",
       "    </tr>\n",
       "    <tr>\n",
       "      <th>2</th>\n",
       "      <td>B</td>\n",
       "      <td>2.0</td>\n",
       "    </tr>\n",
       "    <tr>\n",
       "      <th>4</th>\n",
       "      <td>C</td>\n",
       "      <td>3.0</td>\n",
       "    </tr>\n",
       "    <tr>\n",
       "      <th>6</th>\n",
       "      <td>E</td>\n",
       "      <td>4.0</td>\n",
       "    </tr>\n",
       "    <tr>\n",
       "      <th>5</th>\n",
       "      <td>D</td>\n",
       "      <td>5.0</td>\n",
       "    </tr>\n",
       "    <tr>\n",
       "      <th>1</th>\n",
       "      <td>T</td>\n",
       "      <td>6.0</td>\n",
       "    </tr>\n",
       "  </tbody>\n",
       "</table>\n",
       "</div>"
      ],
      "text/plain": [
       "  city  visit order\n",
       "0    O          0.0\n",
       "3    A          1.0\n",
       "2    B          2.0\n",
       "4    C          3.0\n",
       "6    E          4.0\n",
       "5    D          5.0\n",
       "1    T          6.0"
      ]
     },
     "execution_count": 17,
     "metadata": {},
     "output_type": "execute_result"
    }
   ],
   "source": [
    "lst_c = []\n",
    "for c in u:\n",
    "    soln_c = (c[0],solution.get_var_value(u[c]))\n",
    "    lst_c.append(soln_c)\n",
    "df_c = pd.DataFrame.from_records(lst_c, columns = ['city', 'visit order'])\n",
    "df_c.sort_values(by=['visit order'], inplace = True)\n",
    "df_c"
   ]
  },
  {
   "cell_type": "code",
   "execution_count": 18,
   "metadata": {},
   "outputs": [],
   "source": [
    "# Export results to csv\n",
    "import os\n",
    "\n",
    "base_dir = os.getcwd()\n",
    "\n",
    "def export_soln_to_csv(df, model_name = 'untitled'):\n",
    "    \"\"\" model refers to model object from docplex.mp.model\"\"\"\n",
    "\n",
    "    try:\n",
    "        os.mkdir(os.path.join(base_dir, 'output'))\n",
    "    except:\n",
    "        pass\n",
    "\n",
    "    filename = 'output/' + 'soln_' + model_name + '.csv'\n",
    "    solution_output = os.path.join(os.getcwd(), filename)\n",
    "    df.to_csv(solution_output, index=False)"
   ]
  },
  {
   "cell_type": "code",
   "execution_count": 19,
   "metadata": {},
   "outputs": [],
   "source": [
    "export_soln_to_csv(df_x, m.get_name()+'_arc')\n",
    "export_soln_to_csv(df_c, m.get_name()+'_order')"
   ]
  }
 ],
 "metadata": {
  "kernelspec": {
   "display_name": "Python 3",
   "language": "python",
   "name": "python3"
  },
  "language_info": {
   "codemirror_mode": {
    "name": "ipython",
    "version": 3
   },
   "file_extension": ".py",
   "mimetype": "text/x-python",
   "name": "python",
   "nbconvert_exporter": "python",
   "pygments_lexer": "ipython3",
   "version": "3.7.6"
  },
  "toc": {
   "base_numbering": 1,
   "nav_menu": {},
   "number_sections": true,
   "sideBar": true,
   "skip_h1_title": false,
   "title_cell": "Table of Contents",
   "title_sidebar": "Contents",
   "toc_cell": false,
   "toc_position": {},
   "toc_section_display": true,
   "toc_window_display": false
  }
 },
 "nbformat": 4,
 "nbformat_minor": 4
}
