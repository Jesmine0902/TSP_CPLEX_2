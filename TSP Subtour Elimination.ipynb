{
 "cells": [
  {
   "cell_type": "markdown",
   "metadata": {},
   "source": [
    "# TSP with Subtour Elimination"
   ]
  },
  {
   "cell_type": "markdown",
   "metadata": {},
   "source": [
    "Given a set of cities and distance between every pair of cities, the problem is to find the shortest possible route that visits every city exactly once and returns back to the starting point."
   ]
  },
  {
   "cell_type": "markdown",
   "metadata": {},
   "source": [
    "This problem is from Chapter 3, Section 1 (3.1 Prototype Example) of the Introduction to Operations Research,\n",
    "7th edition by Hillier and Lieberman.\n",
    "\n",
    "<div>\n",
    "<img src=\"img_9.3-1_table.png\" width=\"400\"/>\n",
    "</div>\n",
    "\n",
    "<!-- ![title](img_9.3-1_network.png) -->\n",
    "<div>\n",
    "<img src=\"img_9.3-1_network.png\" width=\"700\"/>\n",
    "</div>\n",
    "\n",
    "reference:\n",
    "https://ozgurakgun.github.io/ModRef2017/files/ModRef2017_MTSP.pdf"
   ]
  },
  {
   "cell_type": "markdown",
   "metadata": {},
   "source": [
    "<div class=\"alert alert-block alert-warning\">\n",
    "<b>Branch and Cut:</b> We translate the TSP problem into an assignment problem (AP) and then we add constraints to remove the subtours.<br><br>\n",
    "     \n",
    "We solve as an AP becuase the AP has a **unimodular constraint matrix** which results in solving for integer solutions quickly. <br><br>\n",
    "    \n",
    "For example, we could use the **Hungarian algorithm** which gaunreentees an integer solution<br>\n",
    "<br>\n",
    "    \n",
    "**11:33 Lec 19**\n",
    "The assignment problem has this nice structure such that you can solve it as a LP and you get an integer solution for free. So I can take advantage of that and I can solve the AP with another algorithm that is even better than simplex. So there is a Hungarian method. So you could envision doing this branch and bound without even using a solver. You are just using, just drawing the tree and keeping track of the nodes and keeping track of the subproblems with another algorithm. You don't always need to use simplex. \n",
    "    \n",
    "\n",
    "</div>"
   ]
  },
  {
   "cell_type": "markdown",
   "metadata": {},
   "source": [
    "## Import packages"
   ]
  },
  {
   "cell_type": "code",
   "execution_count": 1,
   "metadata": {},
   "outputs": [],
   "source": [
    "import pandas as pd\n",
    "from docplex.mp.model import Model"
   ]
  },
  {
   "cell_type": "markdown",
   "metadata": {},
   "source": [
    "## Intialize the data"
   ]
  },
  {
   "cell_type": "code",
   "execution_count": 2,
   "metadata": {},
   "outputs": [],
   "source": [
    "df = pd.read_csv('data_cities_numbered.csv')\n",
    "edges = list((t.origin, t.destination) for t in df.itertuples())\n",
    "cities = set(df['destination'])\n",
    "distance = dict([((t.origin, t.destination),t.distance ) for t in df.itertuples()])"
   ]
  },
  {
   "cell_type": "markdown",
   "metadata": {},
   "source": [
    "## Create the model"
   ]
  },
  {
   "cell_type": "code",
   "execution_count": 3,
   "metadata": {},
   "outputs": [],
   "source": [
    "m=Model('TSP_subtour_elimination')"
   ]
  },
  {
   "cell_type": "markdown",
   "metadata": {},
   "source": [
    "### <font color=green>  Decision Variables"
   ]
  },
  {
   "cell_type": "markdown",
   "metadata": {},
   "source": [
    "<div class=\"alert alert-block alert-warning\">\n",
    "<b>Decision Variables:</b> $x_{ij}$ and $u_{c}$\n",
    "\n",
    "Let $x_{ij}$ = 1 if edge ${ij}$ is used, 0 otherwise.<br>\n",
    "Let $u_{c}$ = the number of cities visited from the origin up to city $c$<br>\n",
    "    \n",
    "<br>\n",
    "$x_{ij}\\in (0,1)$<br>\n",
    "$u_{c}\\in {\\rm I\\!R}$\n",
    "</div>"
   ]
  },
  {
   "cell_type": "code",
   "execution_count": 4,
   "metadata": {},
   "outputs": [],
   "source": [
    "x = m.binary_var_dict(edges, name = 'x')\n",
    "u = m.continuous_var_dict(cities, name ='u')"
   ]
  },
  {
   "cell_type": "markdown",
   "metadata": {},
   "source": [
    "### <font color=green>  Objective Function"
   ]
  },
  {
   "cell_type": "markdown",
   "metadata": {},
   "source": [
    "<div class=\"alert alert-block alert-warning\">\n",
    "<b>Objective Function:</b> Minimize Z\n",
    "    \n",
    " $$Z = \\sum_{ij } x_{ij}d_{ij}$$\n",
    "</div>"
   ]
  },
  {
   "cell_type": "code",
   "execution_count": 5,
   "metadata": {},
   "outputs": [],
   "source": [
    "m.minimize(m.sum(distance[e]*x[e] for e in edges))"
   ]
  },
  {
   "cell_type": "markdown",
   "metadata": {},
   "source": [
    "### <font color=green>  Constraints"
   ]
  },
  {
   "cell_type": "markdown",
   "metadata": {},
   "source": [
    "<div class=\"alert alert-block alert-warning\">\n",
    "<b>Constraint 1:</b> You must enter each city once\n",
    "$$\n",
    "\\sum_{i,j \\: \\epsilon \\:E} x_{i} = 1 \n",
    "\\qquad \\forall  \\enspace i \\: \\epsilon \\: Cities\n",
    "$$\n",
    "\n",
    "</div>"
   ]
  },
  {
   "cell_type": "code",
   "execution_count": 6,
   "metadata": {},
   "outputs": [],
   "source": [
    "for c in cities:\n",
    "    m.add_constraint(m.sum(x[(i,j)] for i,j in edges if i==c)==1, ctname='city_out_%d'%c)\n"
   ]
  },
  {
   "cell_type": "markdown",
   "metadata": {},
   "source": [
    "\n",
    "<div class=\"alert alert-block alert-warning\">\n",
    "<b>Constraint 2:</b> You must exit each city once\n",
    "$$\n",
    "\\sum_{j \\: \\epsilon \\:E} x_{j} = 1 \n",
    "\\qquad \\forall  \\enspace j \\: \\epsilon \\: Cities\n",
    "$$ \n",
    "\n",
    "</div>"
   ]
  },
  {
   "cell_type": "code",
   "execution_count": 7,
   "metadata": {},
   "outputs": [],
   "source": [
    "for c in cities:\n",
    "    m.add_constraint(m.sum(x[(i,j)] for i,j in edges if j==c)==1, ctname='city_in_%d'%c)\n"
   ]
  },
  {
   "cell_type": "markdown",
   "metadata": {},
   "source": [
    "<div class=\"alert alert-block alert-info\">\n",
    "<b>Note:</b> In the two constraints above we explicitly prevent the model from considering $c_{ij}$ from a city to itself (which would have a distance of 0). Alternatively, let the model go through all possible $c_{ij}$ combinations but prevent it from selecting a route in which we travel from the city to itself by assigning a large value, $M$, in these cases instead of 0\n",
    "    \n",
    "In this case, set M = max $c_{ij}$ + 1\n",
    "</div>"
   ]
  },
  {
   "cell_type": "markdown",
   "metadata": {},
   "source": [
    "\n",
    "<div class=\"alert alert-block alert-warning\">\n",
    "<b>Subtour Elimination Constraint:</b> A subtour is a solution set in which the number of cities in that tour is less than the total number of cities in the whole problem.\n",
    "    \n",
    "**Lec 19 (0:12:45)**\n",
    "When we branch, we want to try and break up the smaller subtour becuase it will have fewer branches. In general this will result in solving fewer number of problems (with the exception of special cases)\n",
    "</div>"
   ]
  },
  {
   "cell_type": "code",
   "execution_count": 8,
   "metadata": {},
   "outputs": [
    {
     "name": "stdout",
     "output_type": "stream",
     "text": [
      "\\ This file has been generated by DOcplex\n",
      "\\ ENCODING=ISO-8859-1\n",
      "\\Problem name: TSP_subtour_elimination\n",
      "\n",
      "Minimize\n",
      " obj: 304 x_1_1 + 132 x_2_1 + 217 x_3_1 + 164 x_4_1 + 58 x_5_1 + 132 x_1_2\n",
      "      + 304 x_2_2 + 290 x_3_2 + 201 x_4_2 + 79 x_5_2 + 217 x_1_3 + 290 x_2_3\n",
      "      + 304 x_3_3 + 113 x_4_3 + 303 x_5_3 + 164 x_1_4 + 201 x_2_4 + 113 x_3_4\n",
      "      + 304 x_4_4 + 196 x_5_4 + 58 x_1_5 + 79 x_2_5 + 303 x_3_5 + 196 x_4_5\n",
      "      + 304 x_5_5\n",
      "Subject To\n",
      " city_out_1: x_1_1 + x_1_2 + x_1_3 + x_1_4 + x_1_5 = 1\n",
      " city_out_2: x_2_1 + x_2_2 + x_2_3 + x_2_4 + x_2_5 = 1\n",
      " city_out_3: x_3_1 + x_3_2 + x_3_3 + x_3_4 + x_3_5 = 1\n",
      " city_out_4: x_4_1 + x_4_2 + x_4_3 + x_4_4 + x_4_5 = 1\n",
      " city_out_5: x_5_1 + x_5_2 + x_5_3 + x_5_4 + x_5_5 = 1\n",
      " city_in_1: x_1_1 + x_2_1 + x_3_1 + x_4_1 + x_5_1 = 1\n",
      " city_in_2: x_1_2 + x_2_2 + x_3_2 + x_4_2 + x_5_2 = 1\n",
      " city_in_3: x_1_3 + x_2_3 + x_3_3 + x_4_3 + x_5_3 = 1\n",
      " city_in_4: x_1_4 + x_2_4 + x_3_4 + x_4_4 + x_5_4 = 1\n",
      " city_in_5: x_1_5 + x_2_5 + x_3_5 + x_4_5 + x_5_5 = 1\n",
      "\n",
      "Bounds\n",
      " 0 <= x_1_1 <= 1\n",
      " 0 <= x_2_1 <= 1\n",
      " 0 <= x_3_1 <= 1\n",
      " 0 <= x_4_1 <= 1\n",
      " 0 <= x_5_1 <= 1\n",
      " 0 <= x_1_2 <= 1\n",
      " 0 <= x_2_2 <= 1\n",
      " 0 <= x_3_2 <= 1\n",
      " 0 <= x_4_2 <= 1\n",
      " 0 <= x_5_2 <= 1\n",
      " 0 <= x_1_3 <= 1\n",
      " 0 <= x_2_3 <= 1\n",
      " 0 <= x_3_3 <= 1\n",
      " 0 <= x_4_3 <= 1\n",
      " 0 <= x_5_3 <= 1\n",
      " 0 <= x_1_4 <= 1\n",
      " 0 <= x_2_4 <= 1\n",
      " 0 <= x_3_4 <= 1\n",
      " 0 <= x_4_4 <= 1\n",
      " 0 <= x_5_4 <= 1\n",
      " 0 <= x_1_5 <= 1\n",
      " 0 <= x_2_5 <= 1\n",
      " 0 <= x_3_5 <= 1\n",
      " 0 <= x_4_5 <= 1\n",
      " 0 <= x_5_5 <= 1\n",
      "\n",
      "Binaries\n",
      " x_1_1 x_2_1 x_3_1 x_4_1 x_5_1 x_1_2 x_2_2 x_3_2 x_4_2 x_5_2 x_1_3 x_2_3 x_3_3\n",
      " x_4_3 x_5_3 x_1_4 x_2_4 x_3_4 x_4_4 x_5_4 x_1_5 x_2_5 x_3_5 x_4_5 x_5_5\n",
      "End\n",
      "\n"
     ]
    }
   ],
   "source": [
    "print(m.export_to_string())"
   ]
  },
  {
   "cell_type": "code",
   "execution_count": 9,
   "metadata": {},
   "outputs": [
    {
     "name": "stdout",
     "output_type": "stream",
     "text": [
      "Version identifier: 12.10.0.0 | 2019-11-27 | 843d4de\n",
      "CPXPARAM_Read_DataCheck                          1\n",
      "CPXPARAM_RandomSeed                              201903125\n",
      "CPXPARAM_MIP_Strategy_Branch                     1\n",
      "CPXPARAM_TimeLimit                               120\n",
      "CPXPARAM_MIP_Tolerances_MIPGap                   0.14999999999999999\n",
      "Found incumbent of value 1520.000000 after 0.00 sec. (0.00 ticks)\n",
      "Tried aggregator 1 time.\n",
      "MIP Presolve eliminated 0 rows and 5 columns.\n",
      "Reduced MIP has 10 rows, 25 columns, and 50 nonzeros.\n",
      "Reduced MIP has 25 binaries, 0 generals, 0 SOSs, and 0 indicators.\n",
      "Presolve time = 0.00 sec. (0.03 ticks)\n",
      "Probing time = 0.00 sec. (0.02 ticks)\n",
      "Tried aggregator 1 time.\n",
      "Detecting symmetries...\n",
      "Reduced MIP has 10 rows, 25 columns, and 50 nonzeros.\n",
      "Reduced MIP has 25 binaries, 0 generals, 0 SOSs, and 0 indicators.\n",
      "Presolve time = 0.00 sec. (0.04 ticks)\n",
      "Probing time = 0.00 sec. (0.02 ticks)\n",
      "Clique table members: 10.\n",
      "MIP emphasis: balance optimality and feasibility.\n",
      "MIP search method: dynamic search.\n",
      "Parallel mode: deterministic, using up to 12 threads.\n",
      "Root relaxation solution time = 0.00 sec. (0.02 ticks)\n",
      "\n",
      "        Nodes                                         Cuts/\n",
      "   Node  Left     Objective  IInf  Best Integer    Best Bound    ItCnt     Gap\n",
      "\n",
      "*     0+    0                         1520.0000        0.0000           100.00%\n",
      "*     0+    0                          646.0000        0.0000           100.00%\n",
      "*     0+    0                          495.0000        0.0000           100.00%\n",
      "      0     0        cutoff            495.0000      495.0000        2    0.00%\n",
      "      0     0        cutoff            495.0000      495.0000        2    0.00%\n",
      "Elapsed time = 0.02 sec. (0.18 ticks, tree = 0.01 MB, solutions = 3)\n",
      "\n",
      "Root node processing (before b&c):\n",
      "  Real time             =    0.02 sec. (0.18 ticks)\n",
      "Parallel b&c, 12 threads:\n",
      "  Real time             =    0.00 sec. (0.00 ticks)\n",
      "  Sync time (average)   =    0.00 sec.\n",
      "  Wait time (average)   =    0.00 sec.\n",
      "                          ------------\n",
      "Total (root+branch&cut) =    0.02 sec. (0.18 ticks)\n"
     ]
    }
   ],
   "source": [
    "m.parameters.timelimit=120\n",
    "m.parameters.mip.strategy.branch=1\n",
    "m.parameters.mip.tolerances.mipgap=0.15\n",
    "\n",
    "solution = m.solve(log_output=True)"
   ]
  },
  {
   "cell_type": "code",
   "execution_count": 10,
   "metadata": {},
   "outputs": [
    {
     "data": {
      "text/plain": [
       "<JobSolveStatus.OPTIMAL_SOLUTION: 2>"
      ]
     },
     "execution_count": 10,
     "metadata": {},
     "output_type": "execute_result"
    }
   ],
   "source": [
    "m.get_solve_status()"
   ]
  },
  {
   "cell_type": "code",
   "execution_count": 11,
   "metadata": {},
   "outputs": [
    {
     "name": "stdout",
     "output_type": "stream",
     "text": [
      "solution for: TSP_subtour_elimination\n",
      "objective: 495\n",
      "x_2_1 = 1\n",
      "x_5_2 = 1\n",
      "x_4_3 = 1\n",
      "x_3_4 = 1\n",
      "x_1_5 = 1\n"
     ]
    }
   ],
   "source": [
    "solution.display()"
   ]
  },
  {
   "cell_type": "code",
   "execution_count": 12,
   "metadata": {},
   "outputs": [
    {
     "data": {
      "text/html": [
       "<div>\n",
       "<style scoped>\n",
       "    .dataframe tbody tr th:only-of-type {\n",
       "        vertical-align: middle;\n",
       "    }\n",
       "\n",
       "    .dataframe tbody tr th {\n",
       "        vertical-align: top;\n",
       "    }\n",
       "\n",
       "    .dataframe thead th {\n",
       "        text-align: right;\n",
       "    }\n",
       "</style>\n",
       "<table border=\"1\" class=\"dataframe\">\n",
       "  <thead>\n",
       "    <tr style=\"text-align: right;\">\n",
       "      <th></th>\n",
       "      <th>starting city</th>\n",
       "      <th>destination city</th>\n",
       "      <th>solution</th>\n",
       "    </tr>\n",
       "  </thead>\n",
       "  <tbody>\n",
       "    <tr>\n",
       "      <th>0</th>\n",
       "      <td>2</td>\n",
       "      <td>1</td>\n",
       "      <td>1.0</td>\n",
       "    </tr>\n",
       "    <tr>\n",
       "      <th>1</th>\n",
       "      <td>5</td>\n",
       "      <td>2</td>\n",
       "      <td>1.0</td>\n",
       "    </tr>\n",
       "    <tr>\n",
       "      <th>2</th>\n",
       "      <td>4</td>\n",
       "      <td>3</td>\n",
       "      <td>1.0</td>\n",
       "    </tr>\n",
       "    <tr>\n",
       "      <th>3</th>\n",
       "      <td>3</td>\n",
       "      <td>4</td>\n",
       "      <td>1.0</td>\n",
       "    </tr>\n",
       "    <tr>\n",
       "      <th>4</th>\n",
       "      <td>1</td>\n",
       "      <td>5</td>\n",
       "      <td>1.0</td>\n",
       "    </tr>\n",
       "  </tbody>\n",
       "</table>\n",
       "</div>"
      ],
      "text/plain": [
       "   starting city  destination city  solution\n",
       "0              2                 1       1.0\n",
       "1              5                 2       1.0\n",
       "2              4                 3       1.0\n",
       "3              3                 4       1.0\n",
       "4              1                 5       1.0"
      ]
     },
     "execution_count": 12,
     "metadata": {},
     "output_type": "execute_result"
    }
   ],
   "source": [
    "lst = []\n",
    "for i in x:\n",
    "    if solution.get_var_value(x[i]) > 0:\n",
    "        soln = (i[0], i[1], solution.get_var_value(x[i]))\n",
    "        lst.append(soln)\n",
    "df = pd.DataFrame.from_records(lst, columns=['starting city', 'destination city', 'solution'])\n",
    "df"
   ]
  },
  {
   "cell_type": "code",
   "execution_count": 78,
   "metadata": {},
   "outputs": [],
   "source": [
    "def subtour_checker2(lst):\n",
    "    temp_lst = lst.copy()\n",
    "    start = temp_lst[0][0]\n",
    "    next_city = temp_lst[0][1]\n",
    "    lst2 = []\n",
    "\n",
    "    lst2.append(temp_lst.pop(0))\n",
    "\n",
    "    for n in range(len(temp_lst)):\n",
    "        n = 0\n",
    "        for x in temp_lst:\n",
    "            if x[0] == next_city:\n",
    "                next_city  = x[1]\n",
    "                lst2.append(temp_lst.pop(n))\n",
    "            n = n+1\n",
    "    lst3 =[]\n",
    "    for i in range(len(temp_lst)):\n",
    "        lst3.append(temp_lst[i][0])\n",
    "    lst3.append(temp_lst[-1][1])\n",
    "\n",
    "    lst4 = []\n",
    "    for i in range(len(lst2)):\n",
    "        lst4.append(lst2[i][0])  \n",
    "    lst4.append(lst2[-1][1])\n",
    "    \n",
    "    if len(lst2) == len(temp_lst):\n",
    "        print(\"Woohoo! No Subtours!\")\n",
    "        return(True)\n",
    "    else:\n",
    "        print(\"Subtours exists\")\n",
    "        print('*****************')\n",
    "#         print('temp_lst:', temp_lst)\n",
    "        print('subtour 1:', lst3)\n",
    "#         print('*****************')\n",
    "#         print('lst2:', lst2)\n",
    "        print('subtour 2:', lst4)\n",
    "\n",
    "        return(False)\n"
   ]
  },
  {
   "cell_type": "code",
   "execution_count": 80,
   "metadata": {},
   "outputs": [
    {
     "name": "stdout",
     "output_type": "stream",
     "text": [
      "Subtours exists\n",
      "*****************\n",
      "subtour 1: [4, 3, 4]\n",
      "subtour 2: [2, 1, 5, 2]\n"
     ]
    },
    {
     "data": {
      "text/plain": [
       "False"
      ]
     },
     "execution_count": 80,
     "metadata": {},
     "output_type": "execute_result"
    }
   ],
   "source": [
    "subtour_checker2(lst)"
   ]
  },
  {
   "cell_type": "code",
   "execution_count": 84,
   "metadata": {},
   "outputs": [
    {
     "data": {
      "text/plain": [
       "[(2, 1, 1.0), (1, 5, 1.0), (5, 2, 1.0)]"
      ]
     },
     "execution_count": 84,
     "metadata": {},
     "output_type": "execute_result"
    }
   ],
   "source": [
    "lst2"
   ]
  },
  {
   "cell_type": "code",
   "execution_count": 100,
   "metadata": {},
   "outputs": [],
   "source": [
    "var_lst = []\n",
    "for i in range(len(lst2)):\n",
    "    var_lst.append('branch_%d'%i)"
   ]
  },
  {
   "cell_type": "code",
   "execution_count": 101,
   "metadata": {},
   "outputs": [
    {
     "data": {
      "text/plain": [
       "['branch_0', 'branch_1', 'branch_2']"
      ]
     },
     "execution_count": 101,
     "metadata": {},
     "output_type": "execute_result"
    }
   ],
   "source": [
    "var_lst"
   ]
  },
  {
   "cell_type": "code",
   "execution_count": 102,
   "metadata": {},
   "outputs": [
    {
     "data": {
      "text/plain": [
       "[(2, 1, 1.0), (5, 2, 1.0), (4, 3, 1.0), (3, 4, 1.0), (1, 5, 1.0)]"
      ]
     },
     "execution_count": 102,
     "metadata": {},
     "output_type": "execute_result"
    }
   ],
   "source": [
    "temp_lst"
   ]
  },
  {
   "cell_type": "code",
   "execution_count": 103,
   "metadata": {},
   "outputs": [],
   "source": [
    "temp_lstb = [(2, 1, 1.0), (1, 5, 1.0), (5, 2, 1.0)]"
   ]
  },
  {
   "cell_type": "code",
   "execution_count": 106,
   "metadata": {},
   "outputs": [],
   "source": [
    "for i in range(len(temp_lstb)):\n",
    "    var_lst[i] =(temp_lstb[i][0],temp_lstb[i][1])\n"
   ]
  },
  {
   "cell_type": "code",
   "execution_count": 107,
   "metadata": {},
   "outputs": [
    {
     "data": {
      "text/plain": [
       "[(2, 1), (1, 5), (5, 2)]"
      ]
     },
     "execution_count": 107,
     "metadata": {},
     "output_type": "execute_result"
    }
   ],
   "source": [
    "var_lst"
   ]
  },
  {
   "cell_type": "code",
   "execution_count": null,
   "metadata": {},
   "outputs": [],
   "source": []
  }
 ],
 "metadata": {
  "kernelspec": {
   "display_name": "Python 3",
   "language": "python",
   "name": "python3"
  },
  "language_info": {
   "codemirror_mode": {
    "name": "ipython",
    "version": 3
   },
   "file_extension": ".py",
   "mimetype": "text/x-python",
   "name": "python",
   "nbconvert_exporter": "python",
   "pygments_lexer": "ipython3",
   "version": "3.7.6"
  },
  "toc": {
   "base_numbering": 1,
   "nav_menu": {},
   "number_sections": true,
   "sideBar": true,
   "skip_h1_title": false,
   "title_cell": "Table of Contents",
   "title_sidebar": "Contents",
   "toc_cell": false,
   "toc_position": {},
   "toc_section_display": true,
   "toc_window_display": false
  }
 },
 "nbformat": 4,
 "nbformat_minor": 4
}
